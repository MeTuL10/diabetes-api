{
 "cells": [
  {
   "cell_type": "code",
   "execution_count": 37,
   "metadata": {},
   "outputs": [],
   "source": [
    "import pandas as pd\n",
    "import numpy as np\n",
    "\n",
    "from sklearn.preprocessing import LabelEncoder\n",
    "from sklearn.model_selection import train_test_split\n",
    "from keras.models import Sequential\n",
    "from keras.layers import Dense, Dropout"
   ]
  },
  {
   "cell_type": "code",
   "execution_count": 60,
   "metadata": {},
   "outputs": [
    {
     "data": {
      "text/html": [
       "<div>\n",
       "<style scoped>\n",
       "    .dataframe tbody tr th:only-of-type {\n",
       "        vertical-align: middle;\n",
       "    }\n",
       "\n",
       "    .dataframe tbody tr th {\n",
       "        vertical-align: top;\n",
       "    }\n",
       "\n",
       "    .dataframe thead th {\n",
       "        text-align: right;\n",
       "    }\n",
       "</style>\n",
       "<table border=\"1\" class=\"dataframe\">\n",
       "  <thead>\n",
       "    <tr style=\"text-align: right;\">\n",
       "      <th></th>\n",
       "      <th>gender</th>\n",
       "      <th>age</th>\n",
       "      <th>hypertension</th>\n",
       "      <th>heart_disease</th>\n",
       "      <th>smoking_history</th>\n",
       "      <th>bmi</th>\n",
       "      <th>HbA1c_level</th>\n",
       "      <th>blood_glucose_level</th>\n",
       "      <th>diabetes</th>\n",
       "    </tr>\n",
       "  </thead>\n",
       "  <tbody>\n",
       "    <tr>\n",
       "      <th>0</th>\n",
       "      <td>Female</td>\n",
       "      <td>80.0</td>\n",
       "      <td>0</td>\n",
       "      <td>1</td>\n",
       "      <td>never</td>\n",
       "      <td>25.19</td>\n",
       "      <td>6.6</td>\n",
       "      <td>140</td>\n",
       "      <td>0</td>\n",
       "    </tr>\n",
       "    <tr>\n",
       "      <th>1</th>\n",
       "      <td>Female</td>\n",
       "      <td>54.0</td>\n",
       "      <td>0</td>\n",
       "      <td>0</td>\n",
       "      <td>No Info</td>\n",
       "      <td>27.32</td>\n",
       "      <td>6.6</td>\n",
       "      <td>80</td>\n",
       "      <td>0</td>\n",
       "    </tr>\n",
       "    <tr>\n",
       "      <th>2</th>\n",
       "      <td>Male</td>\n",
       "      <td>28.0</td>\n",
       "      <td>0</td>\n",
       "      <td>0</td>\n",
       "      <td>never</td>\n",
       "      <td>27.32</td>\n",
       "      <td>5.7</td>\n",
       "      <td>158</td>\n",
       "      <td>0</td>\n",
       "    </tr>\n",
       "    <tr>\n",
       "      <th>3</th>\n",
       "      <td>Female</td>\n",
       "      <td>36.0</td>\n",
       "      <td>0</td>\n",
       "      <td>0</td>\n",
       "      <td>current</td>\n",
       "      <td>23.45</td>\n",
       "      <td>5.0</td>\n",
       "      <td>155</td>\n",
       "      <td>0</td>\n",
       "    </tr>\n",
       "    <tr>\n",
       "      <th>4</th>\n",
       "      <td>Male</td>\n",
       "      <td>76.0</td>\n",
       "      <td>1</td>\n",
       "      <td>1</td>\n",
       "      <td>current</td>\n",
       "      <td>20.14</td>\n",
       "      <td>4.8</td>\n",
       "      <td>155</td>\n",
       "      <td>0</td>\n",
       "    </tr>\n",
       "  </tbody>\n",
       "</table>\n",
       "</div>"
      ],
      "text/plain": [
       "   gender   age  hypertension  heart_disease smoking_history    bmi  \\\n",
       "0  Female  80.0             0              1           never  25.19   \n",
       "1  Female  54.0             0              0         No Info  27.32   \n",
       "2    Male  28.0             0              0           never  27.32   \n",
       "3  Female  36.0             0              0         current  23.45   \n",
       "4    Male  76.0             1              1         current  20.14   \n",
       "\n",
       "   HbA1c_level  blood_glucose_level  diabetes  \n",
       "0          6.6                  140         0  \n",
       "1          6.6                   80         0  \n",
       "2          5.7                  158         0  \n",
       "3          5.0                  155         0  \n",
       "4          4.8                  155         0  "
      ]
     },
     "execution_count": 60,
     "metadata": {},
     "output_type": "execute_result"
    }
   ],
   "source": [
    "df = pd.read_csv('dataset\\\\diabetes_prediction_dataset.csv')\n",
    "df.head()"
   ]
  },
  {
   "cell_type": "code",
   "execution_count": 61,
   "metadata": {},
   "outputs": [],
   "source": [
    "le1= LabelEncoder()\n",
    "le2= LabelEncoder()\n",
    "columns = ['gender', 'smoking_history']\n",
    "df['gender'] = le1.fit_transform(df['gender'])\n",
    "df['smoking_history'] = le2.fit_transform(df['smoking_history'])\n"
   ]
  },
  {
   "cell_type": "code",
   "execution_count": 62,
   "metadata": {},
   "outputs": [
    {
     "name": "stdout",
     "output_type": "stream",
     "text": [
      "['Female' 'Male' 'Other']\n",
      "['No Info' 'current' 'ever' 'former' 'never' 'not current']\n"
     ]
    }
   ],
   "source": [
    "print(le1.classes_)\n",
    "print(le2.classes_)"
   ]
  },
  {
   "cell_type": "code",
   "execution_count": 71,
   "metadata": {},
   "outputs": [],
   "source": [
    "f=open(\"encodedlabels.txt\",\"w\")\n",
    "f.write(\", \".join(le1.classes_))\n",
    "f.write(\"\\n\")\n",
    "f.write(\", \".join(le2.classes_))\n",
    "f.close()"
   ]
  },
  {
   "cell_type": "code",
   "execution_count": 63,
   "metadata": {},
   "outputs": [],
   "source": [
    "x = df.drop('diabetes', axis = 1)\n",
    "y = df['diabetes']\n",
    "xtrain, xtest, ytrain, ytest = train_test_split(x,y,test_size=0.3)"
   ]
  },
  {
   "cell_type": "code",
   "execution_count": 64,
   "metadata": {},
   "outputs": [],
   "source": [
    "model = Sequential()\n",
    "model.add(Dense(64, activation = 'relu', input_shape = (xtrain.shape[1],)))\n",
    "model.add(Dropout(0.5))\n",
    "model.add(Dense(32, activation = 'relu'))\n",
    "model.add(Dropout(0.5))\n",
    "model.add(Dense(1, activation = 'sigmoid'))\n"
   ]
  },
  {
   "cell_type": "code",
   "execution_count": 65,
   "metadata": {},
   "outputs": [
    {
     "name": "stdout",
     "output_type": "stream",
     "text": [
      "Model: \"sequential_7\"\n",
      "_________________________________________________________________\n",
      " Layer (type)                Output Shape              Param #   \n",
      "=================================================================\n",
      " dense_17 (Dense)            (None, 64)                576       \n",
      "                                                                 \n",
      " dropout_12 (Dropout)        (None, 64)                0         \n",
      "                                                                 \n",
      " dense_18 (Dense)            (None, 32)                2080      \n",
      "                                                                 \n",
      " dropout_13 (Dropout)        (None, 32)                0         \n",
      "                                                                 \n",
      " dense_19 (Dense)            (None, 1)                 33        \n",
      "                                                                 \n",
      "=================================================================\n",
      "Total params: 2,689\n",
      "Trainable params: 2,689\n",
      "Non-trainable params: 0\n",
      "_________________________________________________________________\n"
     ]
    }
   ],
   "source": [
    "model.compile(loss = 'binary_crossentropy', optimizer = 'adam', metrics = ['accuracy'])\n",
    "model.summary()"
   ]
  },
  {
   "cell_type": "code",
   "execution_count": 66,
   "metadata": {},
   "outputs": [
    {
     "name": "stdout",
     "output_type": "stream",
     "text": [
      "Epoch 1/20\n",
      "4375/4375 [==============================] - 8s 2ms/step - loss: 0.4690 - accuracy: 0.9050\n",
      "Epoch 2/20\n",
      "4375/4375 [==============================] - 7s 1ms/step - loss: 0.2678 - accuracy: 0.9161\n",
      "Epoch 3/20\n",
      "4375/4375 [==============================] - 6s 1ms/step - loss: 0.2475 - accuracy: 0.9207\n",
      "Epoch 4/20\n",
      "4375/4375 [==============================] - 6s 1ms/step - loss: 0.2377 - accuracy: 0.9235\n",
      "Epoch 5/20\n",
      "4375/4375 [==============================] - 6s 1ms/step - loss: 0.2335 - accuracy: 0.9245\n",
      "Epoch 6/20\n",
      "4375/4375 [==============================] - 7s 2ms/step - loss: 0.2316 - accuracy: 0.9249\n",
      "Epoch 7/20\n",
      "4375/4375 [==============================] - 7s 1ms/step - loss: 0.2280 - accuracy: 0.9259\n",
      "Epoch 8/20\n",
      "4375/4375 [==============================] - 7s 2ms/step - loss: 0.2242 - accuracy: 0.9260\n",
      "Epoch 9/20\n",
      "4375/4375 [==============================] - 7s 2ms/step - loss: 0.2187 - accuracy: 0.9265\n",
      "Epoch 10/20\n",
      "4375/4375 [==============================] - 7s 2ms/step - loss: 0.2136 - accuracy: 0.9275\n",
      "Epoch 11/20\n",
      "4375/4375 [==============================] - 7s 2ms/step - loss: 0.2049 - accuracy: 0.9302\n",
      "Epoch 12/20\n",
      "4375/4375 [==============================] - 6s 1ms/step - loss: 0.1984 - accuracy: 0.9311\n",
      "Epoch 13/20\n",
      "4375/4375 [==============================] - 6s 1ms/step - loss: 0.1886 - accuracy: 0.9335\n",
      "Epoch 14/20\n",
      "4375/4375 [==============================] - 7s 2ms/step - loss: 0.1835 - accuracy: 0.9372\n",
      "Epoch 15/20\n",
      "4375/4375 [==============================] - 7s 2ms/step - loss: 0.1757 - accuracy: 0.9397\n",
      "Epoch 16/20\n",
      "4375/4375 [==============================] - 8s 2ms/step - loss: 0.1711 - accuracy: 0.9415\n",
      "Epoch 17/20\n",
      "4375/4375 [==============================] - 7s 2ms/step - loss: 0.1769 - accuracy: 0.9409\n",
      "Epoch 18/20\n",
      "4375/4375 [==============================] - 7s 2ms/step - loss: 0.1731 - accuracy: 0.9435\n",
      "Epoch 19/20\n",
      "4375/4375 [==============================] - 7s 2ms/step - loss: 0.1723 - accuracy: 0.9437\n",
      "Epoch 20/20\n",
      "4375/4375 [==============================] - 7s 2ms/step - loss: 0.1748 - accuracy: 0.9424\n",
      "938/938 [==============================] - 2s 1ms/step - loss: 0.1717 - accuracy: 0.9355\n"
     ]
    },
    {
     "data": {
      "text/plain": [
       "[0.17168711125850677, 0.9354666471481323]"
      ]
     },
     "execution_count": 66,
     "metadata": {},
     "output_type": "execute_result"
    }
   ],
   "source": [
    "model.fit(xtrain, ytrain, epochs = 20, batch_size = 16)\n",
    "model.evaluate(xtest, ytest)"
   ]
  },
  {
   "cell_type": "code",
   "execution_count": 67,
   "metadata": {},
   "outputs": [
    {
     "name": "stderr",
     "output_type": "stream",
     "text": [
      "WARNING:absl:Found untraced functions such as _update_step_xla while saving (showing 1 of 1). These functions will not be directly callable after loading.\n"
     ]
    },
    {
     "name": "stdout",
     "output_type": "stream",
     "text": [
      "INFO:tensorflow:Assets written to: models\\diabetes_predictor\\assets\n"
     ]
    },
    {
     "name": "stderr",
     "output_type": "stream",
     "text": [
      "INFO:tensorflow:Assets written to: models\\diabetes_predictor\\assets\n"
     ]
    }
   ],
   "source": [
    "model.save(\"models\\\\diabetes_predictor\")"
   ]
  }
 ],
 "metadata": {
  "kernelspec": {
   "display_name": "base",
   "language": "python",
   "name": "python3"
  },
  "language_info": {
   "codemirror_mode": {
    "name": "ipython",
    "version": 3
   },
   "file_extension": ".py",
   "mimetype": "text/x-python",
   "name": "python",
   "nbconvert_exporter": "python",
   "pygments_lexer": "ipython3",
   "version": "3.9.13"
  },
  "orig_nbformat": 4
 },
 "nbformat": 4,
 "nbformat_minor": 2
}

{
 "cells": [
  {
   "cell_type": "code",
   "execution_count": 16,
   "metadata": {},
   "outputs": [],
   "source": [
    "import pandas as pd\n",
    "import numpy as np\n",
    "\n",
    "from sklearn.preprocessing import LabelEncoder, StandardScaler\n",
    "from sklearn.model_selection import train_test_split\n",
    "\n",
    "import tensorflow as tf\n",
    "from keras.models import Sequential\n",
    "from keras.layers import Dense, Dropout"
   ]
  },
  {
   "cell_type": "code",
   "execution_count": 22,
   "metadata": {},
   "outputs": [
    {
     "data": {
      "text/html": [
       "<div>\n",
       "<style scoped>\n",
       "    .dataframe tbody tr th:only-of-type {\n",
       "        vertical-align: middle;\n",
       "    }\n",
       "\n",
       "    .dataframe tbody tr th {\n",
       "        vertical-align: top;\n",
       "    }\n",
       "\n",
       "    .dataframe thead th {\n",
       "        text-align: right;\n",
       "    }\n",
       "</style>\n",
       "<table border=\"1\" class=\"dataframe\">\n",
       "  <thead>\n",
       "    <tr style=\"text-align: right;\">\n",
       "      <th></th>\n",
       "      <th>gender</th>\n",
       "      <th>age</th>\n",
       "      <th>hypertension</th>\n",
       "      <th>heart_disease</th>\n",
       "      <th>smoking_history</th>\n",
       "      <th>bmi</th>\n",
       "      <th>HbA1c_level</th>\n",
       "      <th>blood_glucose_level</th>\n",
       "      <th>diabetes</th>\n",
       "    </tr>\n",
       "  </thead>\n",
       "  <tbody>\n",
       "    <tr>\n",
       "      <th>0</th>\n",
       "      <td>Female</td>\n",
       "      <td>80.0</td>\n",
       "      <td>0</td>\n",
       "      <td>1</td>\n",
       "      <td>never</td>\n",
       "      <td>25.19</td>\n",
       "      <td>6.6</td>\n",
       "      <td>140</td>\n",
       "      <td>0</td>\n",
       "    </tr>\n",
       "    <tr>\n",
       "      <th>1</th>\n",
       "      <td>Female</td>\n",
       "      <td>54.0</td>\n",
       "      <td>0</td>\n",
       "      <td>0</td>\n",
       "      <td>No Info</td>\n",
       "      <td>27.32</td>\n",
       "      <td>6.6</td>\n",
       "      <td>80</td>\n",
       "      <td>0</td>\n",
       "    </tr>\n",
       "    <tr>\n",
       "      <th>2</th>\n",
       "      <td>Male</td>\n",
       "      <td>28.0</td>\n",
       "      <td>0</td>\n",
       "      <td>0</td>\n",
       "      <td>never</td>\n",
       "      <td>27.32</td>\n",
       "      <td>5.7</td>\n",
       "      <td>158</td>\n",
       "      <td>0</td>\n",
       "    </tr>\n",
       "    <tr>\n",
       "      <th>3</th>\n",
       "      <td>Female</td>\n",
       "      <td>36.0</td>\n",
       "      <td>0</td>\n",
       "      <td>0</td>\n",
       "      <td>current</td>\n",
       "      <td>23.45</td>\n",
       "      <td>5.0</td>\n",
       "      <td>155</td>\n",
       "      <td>0</td>\n",
       "    </tr>\n",
       "    <tr>\n",
       "      <th>4</th>\n",
       "      <td>Male</td>\n",
       "      <td>76.0</td>\n",
       "      <td>1</td>\n",
       "      <td>1</td>\n",
       "      <td>current</td>\n",
       "      <td>20.14</td>\n",
       "      <td>4.8</td>\n",
       "      <td>155</td>\n",
       "      <td>0</td>\n",
       "    </tr>\n",
       "  </tbody>\n",
       "</table>\n",
       "</div>"
      ],
      "text/plain": [
       "   gender   age  hypertension  heart_disease smoking_history    bmi  \\\n",
       "0  Female  80.0             0              1           never  25.19   \n",
       "1  Female  54.0             0              0         No Info  27.32   \n",
       "2    Male  28.0             0              0           never  27.32   \n",
       "3  Female  36.0             0              0         current  23.45   \n",
       "4    Male  76.0             1              1         current  20.14   \n",
       "\n",
       "   HbA1c_level  blood_glucose_level  diabetes  \n",
       "0          6.6                  140         0  \n",
       "1          6.6                   80         0  \n",
       "2          5.7                  158         0  \n",
       "3          5.0                  155         0  \n",
       "4          4.8                  155         0  "
      ]
     },
     "execution_count": 22,
     "metadata": {},
     "output_type": "execute_result"
    }
   ],
   "source": [
    "df = pd.read_csv('dataset\\\\diabetes_prediction_dataset.csv')\n",
    "df.head()"
   ]
  },
  {
   "cell_type": "code",
   "execution_count": 23,
   "metadata": {},
   "outputs": [],
   "source": [
    "le = LabelEncoder()\n",
    "columns = ['gender', 'smoking_history']\n",
    "for c in columns:\n",
    "    df[c] = le.fit_transform(df[c])"
   ]
  },
  {
   "cell_type": "code",
   "execution_count": 24,
   "metadata": {},
   "outputs": [],
   "source": [
    "x = df.drop('diabetes', axis = 1)\n",
    "y = df['diabetes']\n",
    "xtrain, xtest, ytrain, ytest = train_test_split(x,y,test_size=0.3)"
   ]
  },
  {
   "cell_type": "code",
   "execution_count": 25,
   "metadata": {},
   "outputs": [],
   "source": [
    "model = Sequential()\n",
    "model.add(Dense(64, activation = 'relu', input_shape = (xtrain.shape[1],)))\n",
    "model.add(Dropout(0.1))\n",
    "model.add(Dense(32, activation = 'relu'))\n",
    "model.add(Dropout(0.5))\n",
    "model.add(Dense(1, activation = 'sigmoid'))\n"
   ]
  },
  {
   "cell_type": "code",
   "execution_count": 26,
   "metadata": {},
   "outputs": [
    {
     "name": "stdout",
     "output_type": "stream",
     "text": [
      "Model: \"sequential_4\"\n",
      "_________________________________________________________________\n",
      " Layer (type)                Output Shape              Param #   \n",
      "=================================================================\n",
      " dense_8 (Dense)             (None, 64)                576       \n",
      "                                                                 \n",
      " dropout_6 (Dropout)         (None, 64)                0         \n",
      "                                                                 \n",
      " dense_9 (Dense)             (None, 32)                2080      \n",
      "                                                                 \n",
      " dropout_7 (Dropout)         (None, 32)                0         \n",
      "                                                                 \n",
      " dense_10 (Dense)            (None, 1)                 33        \n",
      "                                                                 \n",
      "=================================================================\n",
      "Total params: 2,689\n",
      "Trainable params: 2,689\n",
      "Non-trainable params: 0\n",
      "_________________________________________________________________\n"
     ]
    }
   ],
   "source": [
    "model.compile(loss = 'binary_crossentropy', optimizer = 'adam', metrics = ['accuracy'])\n",
    "model.summary()"
   ]
  },
  {
   "cell_type": "code",
   "execution_count": 27,
   "metadata": {},
   "outputs": [
    {
     "name": "stdout",
     "output_type": "stream",
     "text": [
      "Epoch 1/20\n",
      "4375/4375 [==============================] - 7s 1ms/step - loss: 0.3704 - accuracy: 0.9086\n",
      "Epoch 2/20\n",
      "4375/4375 [==============================] - 6s 1ms/step - loss: 0.2586 - accuracy: 0.9180\n",
      "Epoch 3/20\n",
      "4375/4375 [==============================] - 6s 1ms/step - loss: 0.2416 - accuracy: 0.9215\n",
      "Epoch 4/20\n",
      "4375/4375 [==============================] - 6s 1ms/step - loss: 0.2205 - accuracy: 0.9259\n",
      "Epoch 5/20\n",
      "4375/4375 [==============================] - 6s 1ms/step - loss: 0.1853 - accuracy: 0.9332\n",
      "Epoch 6/20\n",
      "4375/4375 [==============================] - 6s 1ms/step - loss: 0.1666 - accuracy: 0.9403\n",
      "Epoch 7/20\n",
      "4375/4375 [==============================] - 6s 1ms/step - loss: 0.1570 - accuracy: 0.9441\n",
      "Epoch 8/20\n",
      "4375/4375 [==============================] - 6s 1ms/step - loss: 0.1507 - accuracy: 0.9466\n",
      "Epoch 9/20\n",
      "4375/4375 [==============================] - 6s 1ms/step - loss: 0.1494 - accuracy: 0.9490\n",
      "Epoch 10/20\n",
      "4375/4375 [==============================] - 6s 1ms/step - loss: 0.1464 - accuracy: 0.9508\n",
      "Epoch 11/20\n",
      "4375/4375 [==============================] - 6s 1ms/step - loss: 0.1404 - accuracy: 0.9526\n",
      "Epoch 12/20\n",
      "4375/4375 [==============================] - 6s 1ms/step - loss: 0.1364 - accuracy: 0.9541\n",
      "Epoch 13/20\n",
      "4375/4375 [==============================] - 6s 1ms/step - loss: 0.1372 - accuracy: 0.9531\n",
      "Epoch 14/20\n",
      "4375/4375 [==============================] - 6s 1ms/step - loss: 0.1340 - accuracy: 0.9545\n",
      "Epoch 15/20\n",
      "4375/4375 [==============================] - 6s 1ms/step - loss: 0.1322 - accuracy: 0.9556\n",
      "Epoch 16/20\n",
      "4375/4375 [==============================] - 6s 1ms/step - loss: 0.1335 - accuracy: 0.9546\n",
      "Epoch 17/20\n",
      "4375/4375 [==============================] - 6s 1ms/step - loss: 0.1310 - accuracy: 0.9553\n",
      "Epoch 18/20\n",
      "4375/4375 [==============================] - 6s 1ms/step - loss: 0.1308 - accuracy: 0.9558\n",
      "Epoch 19/20\n",
      "4375/4375 [==============================] - 6s 1ms/step - loss: 0.1285 - accuracy: 0.9561\n",
      "Epoch 20/20\n",
      "4375/4375 [==============================] - 6s 1ms/step - loss: 0.1291 - accuracy: 0.9559\n",
      "938/938 [==============================] - 1s 1ms/step - loss: 0.1198 - accuracy: 0.9566\n"
     ]
    },
    {
     "data": {
      "text/plain": [
       "[0.11981575191020966, 0.9566333293914795]"
      ]
     },
     "execution_count": 27,
     "metadata": {},
     "output_type": "execute_result"
    }
   ],
   "source": [
    "model.fit(xtrain, ytrain, epochs = 20, batch_size = 16)\n",
    "model.evaluate(xtest, ytest)"
   ]
  },
  {
   "cell_type": "code",
   "execution_count": 28,
   "metadata": {},
   "outputs": [
    {
     "name": "stderr",
     "output_type": "stream",
     "text": [
      "WARNING:absl:Found untraced functions such as _update_step_xla while saving (showing 1 of 1). These functions will not be directly callable after loading.\n"
     ]
    },
    {
     "name": "stdout",
     "output_type": "stream",
     "text": [
      "INFO:tensorflow:Assets written to: models\\diabetes_predictor\\assets\n"
     ]
    },
    {
     "name": "stderr",
     "output_type": "stream",
     "text": [
      "INFO:tensorflow:Assets written to: models\\diabetes_predictor\\assets\n"
     ]
    }
   ],
   "source": [
    "model.save(\"models\\\\diabetes_predictor\")"
   ]
  }
 ],
 "metadata": {
  "kernelspec": {
   "display_name": "base",
   "language": "python",
   "name": "python3"
  },
  "language_info": {
   "codemirror_mode": {
    "name": "ipython",
    "version": 3
   },
   "file_extension": ".py",
   "mimetype": "text/x-python",
   "name": "python",
   "nbconvert_exporter": "python",
   "pygments_lexer": "ipython3",
   "version": "3.9.13"
  },
  "orig_nbformat": 4
 },
 "nbformat": 4,
 "nbformat_minor": 2
}
